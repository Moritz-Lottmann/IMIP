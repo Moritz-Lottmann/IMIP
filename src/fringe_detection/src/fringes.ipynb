{
 "cells": [
  {
   "cell_type": "code",
   "execution_count": 17,
   "id": "740fa622",
   "metadata": {},
   "outputs": [
    {
     "name": "stderr",
     "output_type": "stream",
     "text": [
      "/tmp/ipykernel_32372/2940014686.py:166: UserWarning: FigureCanvasAgg is non-interactive, and thus cannot be shown\n",
      "  plt.show()\n"
     ]
    }
   ],
   "source": [
    "import cv2\n",
    "import numpy as np\n",
    "from skimage.registration import phase_cross_correlation\n",
    "import matplotlib\n",
    "import matplotlib.pyplot as plt\n",
    "from tqdm import tqdm\n",
    "import os\n",
    "\n",
    "PATH = r\"/home/moritz/Nextcloud/Uni/Physik Master/Semester 2/IMIP/fringe_detection\"\n",
    "\n",
    "# Avoid Qt conflicts with OpenCV\n",
    "matplotlib.use('Agg')  \n",
    "\n",
    "def crop_frames(frames, crop_region):\n",
    "    (xmin, xmax), (ymin, ymax) = crop_region\n",
    "    return frames[:, ymin:ymax, xmin:xmax]\n",
    "\n",
    "def subtract_min(frames):\n",
    "    \"\"\"Subtract minimum frame and ensure non-negative values.\"\"\"\n",
    "    # Calculate minimum in float64 for precision\n",
    "    min_frame = np.min(frames, axis=0)\n",
    "    \n",
    "    # Save min frame visualization\n",
    "    plt.imshow(min_frame.squeeze(), cmap='gray')\n",
    "    plt.colorbar()\n",
    "    plt.title('Min Frame')\n",
    "    plt.savefig(\"min_frame.png\", dpi=150, bbox_inches='tight')\n",
    "    plt.close()\n",
    "    \n",
    "    # Subtract min and handle negative values efficiently\n",
    "    frames_float = frames.astype(np.float64) - min_frame\n",
    "\n",
    "    max_val = np.amax(frames_float)\n",
    "    frames_float *= 255.0 / max_val \n",
    "\n",
    "    return frames_float\n",
    "\n",
    "def preprocess_video(input_path):\n",
    "    cap = cv2.VideoCapture(input_path)\n",
    "    \n",
    "    fps = cap.get(cv2.CAP_PROP_FPS)\n",
    "    total_frames = int(cap.get(cv2.CAP_PROP_FRAME_COUNT))\n",
    "    \n",
    "    ret, first_frame = cap.read()\n",
    "    first_frame = cv2.cvtColor(first_frame, cv2.COLOR_BGR2GRAY)\n",
    "    \n",
    "    height, width = first_frame.shape\n",
    "    \n",
    "    frames = np.empty((total_frames, height, width), dtype=np.uint8)\n",
    "    frames[0] = first_frame\n",
    "    \n",
    "    frame_idx = 1\n",
    "    with tqdm(total=total_frames-1, desc=\"Loading frames\") as pbar:\n",
    "        while True:\n",
    "            ret, frame = cap.read()\n",
    "            if not ret:\n",
    "                break\n",
    "            \n",
    "            # Convert to grayscale immediately\n",
    "            if len(frame.shape) == 3:\n",
    "                frame = cv2.cvtColor(frame, cv2.COLOR_BGR2GRAY)\n",
    "            \n",
    "            frames[frame_idx] = frame\n",
    "            frame_idx += 1\n",
    "            pbar.update(1)\n",
    "    \n",
    "    cap.release()\n",
    "    \n",
    "    frames = frames[..., np.newaxis]\n",
    "\n",
    "    frames = subtract_min(frames)\n",
    "    \n",
    "    return frames, fps\n",
    "\n",
    "def video_from_frames(frames, output_path, fps=30):\n",
    "    height, width = frames.shape[1:3]\n",
    "    frames_bgr = np.repeat(frames, 3, axis=3)  # Convert to BGR by repeating the single channel\n",
    "    print(frames_bgr.shape)\n",
    "\n",
    "    \n",
    "    fourcc = cv2.VideoWriter.fourcc(*'mp4v')\n",
    "    out = cv2.VideoWriter(output_path, fourcc, int(fps), (width, height))\n",
    "    \n",
    "    with tqdm(total=len(frames_bgr), desc=\"Writing video\") as pbar:\n",
    "        for frame in frames_bgr:\n",
    "            out.write(frame.astype(np.uint8))\n",
    "            pbar.update(1)\n",
    "    \n",
    "    out.release()\n",
    "\n",
    "\n",
    "def get_phase_cross_correlation_shifts(frames, upsample_factor=100):\n",
    "    if len(frames.shape) == 4 and frames.shape[3] == 1:\n",
    "        # Remove channel dimension for processing\n",
    "        frames_2d = frames.squeeze(axis=3)\n",
    "    else:\n",
    "        frames_2d = frames\n",
    "    \n",
    "    relative_shifts = [np.array([0.0, 0.0])]\n",
    "    absolute_shifts = [np.array([0.0, 0.0])]\n",
    "    \n",
    "    # Convert frames to float64 once for better precision\n",
    "    frames_float = frames_2d.astype(np.float64)\n",
    "    \n",
    "    # Process consecutive frames with progress bar\n",
    "    with tqdm(total=len(frames_float)-1, desc=\"Computing shifts\") as pbar:\n",
    "        for i in range(len(frames_float)-1):\n",
    "            reference = frames_float[i]\n",
    "            current = frames_float[i+1]\n",
    "            \n",
    "            # Calculate phase correlation\n",
    "            shift, _, _ = phase_cross_correlation(\n",
    "                reference, current, \n",
    "                upsample_factor=upsample_factor\n",
    "            )\n",
    "            \n",
    "            relative_shifts.append(shift)\n",
    "            absolute_shifts.append(absolute_shifts[-1] + shift)\n",
    "            pbar.update(1)\n",
    "    \n",
    "    return np.array(absolute_shifts), np.array(relative_shifts)\n",
    "\n",
    "\n",
    "def make_pretty_plot(total_shifts):\n",
    "    plt.figure(figsize=(10, 5))\n",
    "    plt.xlim(0, len(total_shifts))\n",
    "    # custom x scale\n",
    "    plt.autoscale(axis='y')\n",
    "    plt.plot(total_shifts)\n",
    "    # vlines at 400 and 800\n",
    "    line_1 = 467\n",
    "    line_2 = 863\n",
    "    plt.axvline(x=line_1, color='g', linestyle='--', label='Pump On')\n",
    "    plt.axvline(x=line_2, color='g', linestyle='--', label='Pump Off')\n",
    "    # x ticks in seconds (30fps)\n",
    "    num_labels = 10\n",
    "    fps = 30\n",
    "    max_seconds = len(total_shifts) / fps\n",
    "    x_ticks = np.linspace(0, max_seconds, num_labels)\n",
    "    x_labels = [f\"{int(tick)}\" for tick in x_ticks]\n",
    "    plt.xticks(np.arange(0, len(total_shifts), step=int(len(total_shifts) / num_labels)), x_labels)\n",
    "    # get y ticks ans set labels to be const*tick\n",
    "    maxima_per_second = 12\n",
    "    wavelength = 600e-9  # 600 nm\n",
    "    const = maxima_per_second * wavelength / 2 * 1e6  # convert to micrometers\n",
    "    y_ticks = plt.yticks()[0]\n",
    "    ticks = [int(tick)*const for tick in y_ticks]\n",
    "    y_labels = [f\"{tick:.1f}\" for tick in ticks]\n",
    "    plt.yticks(y_ticks, y_labels)\n",
    "    # annotate\n",
    "    plt.annotate('Pump Off', xy=(line_1-300, max(total_shifts) * 0.9), color='red', fontsize=12)\n",
    "    plt.annotate('Pump On', xy=(line_1+135, max(total_shifts) * 0.9), color='green', fontsize=12)\n",
    "    plt.annotate('Pump Off', xy=(line_2+135, max(total_shifts) * 0.9), color='red', fontsize=12)\n",
    "    # background color in first 400 frames ligh red, the light green, then light red again\n",
    "    plt.axvspan(0, line_1, color='lightcoral', alpha=0.3)\n",
    "    plt.axvspan(line_1, line_2, color='lightgreen', alpha=0.3)\n",
    "    plt.axvspan(line_2, len(total_shifts), color='lightcoral', alpha=0.3) \n",
    "    # labeling and stuff\n",
    "    plt.xlabel(\"Time (s)\")\n",
    "    plt.ylabel(\"Total Shift (um)\")\n",
    "    plt.title(\"Total Phase Correlation Shift Over Time\")\n",
    "    plt.grid()\n",
    "    plt.tight_layout()\n",
    "    #show / save\n",
    "    plt.savefig(\"pretty_plot.png\", dpi=150, bbox_inches='tight')\n",
    "    plt.show()\n",
    "    plt.close()\n",
    "\n",
    "try:\n",
    "    make_pretty_plot(total_shifts)\n",
    "except NameError:\n",
    "    pass"
   ]
  },
  {
   "cell_type": "code",
   "execution_count": 4,
   "id": "61748a1d",
   "metadata": {},
   "outputs": [
    {
     "name": "stderr",
     "output_type": "stream",
     "text": [
      "Loading frames: 100%|██████████| 1370/1370 [00:01<00:00, 1123.22it/s]\n"
     ]
    },
    {
     "name": "stdout",
     "output_type": "stream",
     "text": [
      "(1250, 480, 640, 3)\n"
     ]
    },
    {
     "name": "stderr",
     "output_type": "stream",
     "text": [
      "Writing video: 100%|██████████| 1250/1250 [00:14<00:00, 86.18it/s] \n"
     ]
    }
   ],
   "source": [
    "vid = r\"data/1ul_pump_on_off_2.mp4\"\n",
    "vid = os.path.join(PATH, vid)\n",
    "out = r\"data/1ul_pump_on_off_2_cropped.mp4\"\n",
    "out = os.path.join(PATH, out)\n",
    "crop_region = None\n",
    "crop_regions = [((0, 400), (0, 100)),\n",
    "                ]\n",
    "\n",
    "frames, fps = preprocess_video(vid)\n",
    "frames = frames[:1250]  # Limit to first 1250 frames as ROI\n",
    "\n",
    "video_from_frames(frames, out, fps=int(fps))"
   ]
  },
  {
   "cell_type": "code",
   "execution_count": 5,
   "id": "e7424b29",
   "metadata": {},
   "outputs": [
    {
     "name": "stderr",
     "output_type": "stream",
     "text": [
      "Computing shifts: 100%|██████████| 1249/1249 [00:09<00:00, 128.07it/s]\n"
     ]
    }
   ],
   "source": [
    "frames_cropped = [crop_frames(frames, crop_region) for crop_region in crop_regions]\n",
    "shifts = []\n",
    "for cropped_frames in frames_cropped:\n",
    "    absolute_shifts, relative_shifts = get_phase_cross_correlation_shifts(cropped_frames)\n",
    "    shifts.append(absolute_shifts)\n",
    "\n",
    "# calculate total shift (pythagoras)\n",
    "total_shifts = [np.linalg.norm(shift, axis=1) for shift in shifts]\n",
    "total_shifts = np.sum(total_shifts, axis=0)"
   ]
  },
  {
   "cell_type": "code",
   "execution_count": 10,
   "id": "2edcd88d",
   "metadata": {},
   "outputs": [
    {
     "name": "stderr",
     "output_type": "stream",
     "text": [
      "/tmp/ipykernel_32372/3632484149.py:165: UserWarning: FigureCanvasAgg is non-interactive, and thus cannot be shown\n",
      "  plt.show()\n"
     ]
    }
   ],
   "source": [
    "make_pretty_plot(total_shifts)"
   ]
  }
 ],
 "metadata": {
  "kernelspec": {
   "display_name": ".venv",
   "language": "python",
   "name": "python3"
  },
  "language_info": {
   "codemirror_mode": {
    "name": "ipython",
    "version": 3
   },
   "file_extension": ".py",
   "mimetype": "text/x-python",
   "name": "python",
   "nbconvert_exporter": "python",
   "pygments_lexer": "ipython3",
   "version": "3.10.12"
  }
 },
 "nbformat": 4,
 "nbformat_minor": 5
}
